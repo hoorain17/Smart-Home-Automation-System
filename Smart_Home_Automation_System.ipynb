{
 "cells": [
  {
   "cell_type": "markdown",
   "metadata": {
    "id": "DqzfZRkIGMqO"
   },
   "source": [
    "# **Python Assignment: Smart Home Automation System**"
   ]
  },
  {
   "cell_type": "markdown",
   "metadata": {
    "id": "BKNwm5deHGiS"
   },
   "source": [
    "# **1. Device Management**"
   ]
  },
  {
   "cell_type": "markdown",
   "metadata": {
    "id": "CEp-Wj-9HNpq"
   },
   "source": [
    "**Task 1.1: Create and Manage a List of Smart Devices**"
   ]
  },
  {
   "cell_type": "code",
   "execution_count": 9,
   "metadata": {
    "colab": {
     "base_uri": "https://localhost:8080/"
    },
    "id": "ukxWICYKFcKb",
    "outputId": "b834a551-180d-49e2-9a6b-fcf5b02d1ca6"
   },
   "outputs": [
    {
     "name": "stdout",
     "output_type": "stream",
     "text": [
      "\n",
      "Devices: ['Lights', 'Fan', 'AC', 'Door Lock', 'Thermostat']\n",
      "Options: 1) Add 2) Remove 3) Sort 4) Exit\n",
      "Choose an option (1-4): 1\n",
      "Enter device name to add: Cooler\n",
      "Cooler added.\n",
      "\n",
      "Devices: ['Lights', 'Fan', 'AC', 'Door Lock', 'Thermostat', 'Cooler']\n",
      "Options: 1) Add 2) Remove 3) Sort 4) Exit\n",
      "Choose an option (1-4): 3\n",
      "Devices sorted.\n",
      "\n",
      "Devices: ['AC', 'Cooler', 'Door Lock', 'Fan', 'Lights', 'Thermostat']\n",
      "Options: 1) Add 2) Remove 3) Sort 4) Exit\n",
      "Choose an option (1-4): 4\n"
     ]
    }
   ],
   "source": [
    "# Initial list of devices\n",
    "devices = ['Lights', 'Fan', 'AC', 'Door Lock', 'Thermostat']\n",
    "\n",
    "while True:\n",
    "    print(\"\\nDevices:\", devices)\n",
    "    print(\"Options: 1) Add 2) Remove 3) Sort 4) Exit\")\n",
    "    choice = input(\"Choose an option (1-4): \")\n",
    "\n",
    "    if choice == '1':\n",
    "        new_device = input(\"Enter device name to add: \")\n",
    "        devices.append(new_device)\n",
    "        print(f\"{new_device} added.\")\n",
    "\n",
    "    elif choice == '2':\n",
    "        remove_device = input(\"Enter device name to remove: \")\n",
    "        if remove_device in devices:\n",
    "            devices.remove(remove_device)\n",
    "            print(f\"{remove_device} removed.\")\n",
    "        else:\n",
    "            print(\"Device not found.\")\n",
    "\n",
    "    elif choice == '3':\n",
    "        devices.sort()\n",
    "        print(\"Devices sorted.\")\n",
    "\n",
    "    elif choice == '4':\n",
    "        break\n",
    "\n",
    "    else:\n",
    "        print(\"Invalid option. Try again.\")"
   ]
  },
  {
   "cell_type": "markdown",
   "metadata": {
    "id": "pXlKVvcMHSiT"
   },
   "source": [
    "**Task 1.2: Store Device Settings Using Tuples**"
   ]
  },
  {
   "cell_type": "code",
   "execution_count": 10,
   "metadata": {
    "colab": {
     "base_uri": "https://localhost:8080/"
    },
    "id": "Ml1cyaaXGjT6",
    "outputId": "6facc096-b2fa-4edd-f323-0f635d7d74ab"
   },
   "outputs": [
    {
     "name": "stdout",
     "output_type": "stream",
     "text": [
      "\n",
      "Enter settings for AC:\n",
      "Status (ON/OFF): ON\n",
      "Power Consumption (in Watts): 220\n",
      "\n",
      "Enter settings for Cooler:\n",
      "Status (ON/OFF): Off\n",
      "Power Consumption (in Watts): 12\n",
      "\n",
      "Enter settings for Door Lock:\n",
      "Status (ON/OFF): off\n",
      "Power Consumption (in Watts): 0\n",
      "\n",
      "Enter settings for Fan:\n",
      "Status (ON/OFF): ON\n",
      "Power Consumption (in Watts): 12\n",
      "\n",
      "Enter settings for Lights:\n",
      "Status (ON/OFF): Off\n",
      "Power Consumption (in Watts): 0\n",
      "\n",
      "Enter settings for Thermostat:\n",
      "Status (ON/OFF): Off\n",
      "Power Consumption (in Watts): 0\n",
      "\n",
      "Device Settings:\n",
      "AC: ('AC', 'ON', 220)\n",
      "Cooler: ('Cooler', 'OFF', 12)\n",
      "Door Lock: ('Door Lock', 'OFF', 0)\n",
      "Fan: ('Fan', 'ON', 12)\n",
      "Lights: ('Lights', 'OFF', 0)\n",
      "Thermostat: ('Thermostat', 'OFF', 0)\n"
     ]
    }
   ],
   "source": [
    "device_settings = []\n",
    "\n",
    "for device in devices:\n",
    "    print(f\"\\nEnter settings for {device}:\")\n",
    "    status = input(\"Status (ON/OFF): \").upper()\n",
    "    power = int(input(\"Power Consumption (in Watts): \"))\n",
    "    device_settings.append((device, status, power))\n",
    "\n",
    "# Display all device settings\n",
    "print(\"\\nDevice Settings:\")\n",
    "for setting in device_settings:\n",
    "    print(f\"{setting[0]}: {setting}\")"
   ]
  },
  {
   "cell_type": "markdown",
   "metadata": {
    "id": "01N-CuT1HXqa"
   },
   "source": [
    "# **2. Energy Consumption Tracker**"
   ]
  },
  {
   "cell_type": "markdown",
   "metadata": {
    "id": "ql4GpeicHwhc"
   },
   "source": [
    "**Task 2.1: Energy Consumption Tracker using Dictionary**"
   ]
  },
  {
   "cell_type": "code",
   "execution_count": 11,
   "metadata": {
    "colab": {
     "base_uri": "https://localhost:8080/"
    },
    "id": "vCbf1e7hH02O",
    "outputId": "fe858bd4-f0b4-45a0-a0de-3fd6081777c4"
   },
   "outputs": [
    {
     "name": "stdout",
     "output_type": "stream",
     "text": [
      "\n",
      "Current Energy Usage: {'Lights': 5, 'AC': 120, 'Fan': 30}\n",
      "Options: 1) Add 2) Update 3) Remove 4) Total 5) Exit\n",
      "Choose an option (1-5): 1\n",
      "Enter device name to add: Dryer\n",
      "Enter energy usage (kWh): 20\n",
      "Dryer added.\n",
      "\n",
      "Current Energy Usage: {'Lights': 5, 'AC': 120, 'Fan': 30, 'Dryer': 20}\n",
      "Options: 1) Add 2) Update 3) Remove 4) Total 5) Exit\n",
      "Choose an option (1-5): 5\n"
     ]
    }
   ],
   "source": [
    "# Initial energy usage dictionary\n",
    "energy_usage = {'Lights': 5, 'AC': 120, 'Fan': 30}\n",
    "\n",
    "while True:\n",
    "    print(\"\\nCurrent Energy Usage:\", energy_usage)\n",
    "    print(\"Options: 1) Add 2) Update 3) Remove 4) Total 5) Exit\")\n",
    "    choice = input(\"Choose an option (1-5): \")\n",
    "\n",
    "    if choice == '1':\n",
    "        device = input(\"Enter device name to add: \")\n",
    "        if device in energy_usage:\n",
    "            print(\"Device already exists. Use Update option.\")\n",
    "        else:\n",
    "            usage = int(input(\"Enter energy usage (kWh): \"))\n",
    "            energy_usage[device] = usage\n",
    "            print(f\"{device} added.\")\n",
    "\n",
    "    elif choice == '2':\n",
    "        device = input(\"Enter device name to update: \")\n",
    "        if device in energy_usage:\n",
    "            usage = int(input(\"Enter new energy usage (kWh): \"))\n",
    "            energy_usage[device] = usage\n",
    "            print(f\"{device} updated.\")\n",
    "        else:\n",
    "            print(\"Device not found.\")\n",
    "\n",
    "    elif choice == '3':\n",
    "        device = input(\"Enter device name to remove: \")\n",
    "        if device in energy_usage:\n",
    "            del energy_usage[device]\n",
    "            print(f\"{device} removed.\")\n",
    "        else:\n",
    "            print(\"Device not found.\")\n",
    "\n",
    "    elif choice == '4':\n",
    "        total = sum(energy_usage.values())\n",
    "        print(f\"Total Energy Consumption: {total} kWh\")\n",
    "\n",
    "    elif choice == '5':\n",
    "        break\n",
    "\n",
    "    else:\n",
    "        print(\"Invalid option. Try again.\")"
   ]
  },
  {
   "cell_type": "markdown",
   "metadata": {
    "id": "cRAtoKvVH-mW"
   },
   "source": [
    "**Task 2.2: Unique Power-Saving Modes using Set**"
   ]
  },
  {
   "cell_type": "code",
   "execution_count": 12,
   "metadata": {
    "colab": {
     "base_uri": "https://localhost:8080/"
    },
    "id": "DvU0I8a6IBeG",
    "outputId": "d9596bd8-4b7d-4a54-fde2-2e3453872a78"
   },
   "outputs": [
    {
     "name": "stdout",
     "output_type": "stream",
     "text": [
      "\n",
      "Power-Saving Modes: {'Eco Mode', 'Night Mode'}\n",
      "Options: 1) Add 2) Check 3) View All 4) Exit\n",
      "Choose an option (1-4): 2\n",
      "Enter mode to check: Night mode\n",
      "'Night mode' not found.\n",
      "\n",
      "Power-Saving Modes: {'Eco Mode', 'Night Mode'}\n",
      "Options: 1) Add 2) Check 3) View All 4) Exit\n",
      "Choose an option (1-4): 1\n",
      "Enter new power-saving mode: Sleep Mode\n",
      "New Mode Added: 'Sleep Mode'\n",
      "\n",
      "Power-Saving Modes: {'Eco Mode', 'Night Mode', 'Sleep Mode'}\n",
      "Options: 1) Add 2) Check 3) View All 4) Exit\n",
      "Choose an option (1-4): 2\n",
      "Enter mode to check: Night\n",
      "'Night' not found.\n",
      "\n",
      "Power-Saving Modes: {'Eco Mode', 'Night Mode', 'Sleep Mode'}\n",
      "Options: 1) Add 2) Check 3) View All 4) Exit\n",
      "Choose an option (1-4): 3\n",
      "All Power-Saving Modes: {'Eco Mode', 'Night Mode', 'Sleep Mode'}\n",
      "\n",
      "Power-Saving Modes: {'Eco Mode', 'Night Mode', 'Sleep Mode'}\n",
      "Options: 1) Add 2) Check 3) View All 4) Exit\n",
      "Choose an option (1-4): 4\n"
     ]
    }
   ],
   "source": [
    "# Initial power-saving modes\n",
    "power_modes = {'Eco Mode', 'Night Mode'}\n",
    "\n",
    "while True:\n",
    "    print(\"\\nPower-Saving Modes:\", power_modes)\n",
    "    print(\"Options: 1) Add 2) Check 3) View All 4) Exit\")\n",
    "    choice = input(\"Choose an option (1-4): \")\n",
    "\n",
    "    if choice == '1':\n",
    "        mode = input(\"Enter new power-saving mode: \")\n",
    "        power_modes.add(mode)\n",
    "        print(f\"New Mode Added: '{mode}'\")\n",
    "\n",
    "    elif choice == '2':\n",
    "        mode = input(\"Enter mode to check: \")\n",
    "        if mode in power_modes:\n",
    "            print(f\"'{mode}' is available.\")\n",
    "        else:\n",
    "            print(f\"'{mode}' not found.\")\n",
    "\n",
    "    elif choice == '3':\n",
    "        print(\"All Power-Saving Modes:\", power_modes)\n",
    "\n",
    "    elif choice == '4':\n",
    "        break\n",
    "\n",
    "    else:\n",
    "        print(\"Invalid option. Try again.\")"
   ]
  },
  {
   "cell_type": "markdown",
   "metadata": {
    "id": "ef7UYxmiI3aM"
   },
   "source": [
    "# **3. Smart Home Automation Task**"
   ]
  },
  {
   "cell_type": "markdown",
   "metadata": {
    "id": "5EDb1XPZJAb9"
   },
   "source": [
    "**Task 3.1: Function to Calculate Monthly Energy Cost**"
   ]
  },
  {
   "cell_type": "code",
   "execution_count": 14,
   "metadata": {
    "colab": {
     "base_uri": "https://localhost:8080/"
    },
    "id": "Jz9-rLGvI_3f",
    "outputId": "3546ac9c-7299-4df5-d4f5-f3294b1a06d9"
   },
   "outputs": [
    {
     "name": "stdout",
     "output_type": "stream",
     "text": [
      "Enter total energy usage in kWh: 220\n",
      "Enter electricity rate per kWh (in $): 12\n",
      "Total Monthly Energy Cost: $2640.00\n"
     ]
    }
   ],
   "source": [
    "def calculate_energy_cost(energy_usage, rate_per_kwh):\n",
    "    cost = energy_usage * rate_per_kwh\n",
    "    return f\"Total Monthly Energy Cost: ${cost:.2f}\"\n",
    "\n",
    "# Get input from user\n",
    "try:\n",
    "    usage = float(input(\"Enter total energy usage in kWh: \"))\n",
    "    rate = float(input(\"Enter electricity rate per kWh (in $): \"))\n",
    "    print(calculate_energy_cost(usage, rate))\n",
    "except ValueError:\n",
    "    print(\"Please enter valid numbers.\")"
   ]
  },
  {
   "cell_type": "markdown",
   "metadata": {
    "id": "ZmNUGx5yJW_j"
   },
   "source": [
    "** Task 3.2: Find Common Devices in Two Homes (with input)**"
   ]
  },
  {
   "cell_type": "code",
   "execution_count": 20,
   "metadata": {
    "colab": {
     "base_uri": "https://localhost:8080/"
    },
    "id": "-hk9NfJsJaEL",
    "outputId": "cad5ae00-e78e-415f-c9e4-663b537e24e2"
   },
   "outputs": [
    {
     "name": "stdout",
     "output_type": "stream",
     "text": [
      "Enter devices for Home 1 (comma-separated): light\n",
      "Enter devices for Home 2 (comma-separated): light\n",
      "Common Devices: {'Light'}\n"
     ]
    }
   ],
   "source": [
    "def find_common_devices(home1_devices, home2_devices):\n",
    "    # Normalize case and strip whitespace\n",
    "    set1 = set(device.strip().lower() for device in home1_devices)\n",
    "    set2 = set(device.strip().lower() for device in home2_devices)\n",
    "    return set1 & set2\n",
    "\n",
    "# User input\n",
    "home1_input = input(\"Enter devices for Home 1 (comma-separated): \")\n",
    "home2_input = input(\"Enter devices for Home 2 (comma-separated): \")\n",
    "\n",
    "# Split into lists\n",
    "home1_list = home1_input.split(',')\n",
    "home2_list = home2_input.split(',')\n",
    "\n",
    "# Get common devices\n",
    "common_devices = find_common_devices(home1_list, home2_list)\n",
    "\n",
    "# Show result\n",
    "if common_devices:\n",
    "    print(\"Common Devices:\", {device.title() for device in common_devices})\n",
    "else:\n",
    "    print(\"No common devices found.\")\n"
   ]
  },
  {
   "cell_type": "markdown",
   "metadata": {
    "id": "CYAxL6CKKgHX"
   },
   "source": [
    "# **4. Automation Features**"
   ]
  },
  {
   "cell_type": "markdown",
   "metadata": {
    "id": "zVeiGHTeKnMp"
   },
   "source": [
    "**Task 4.1: Create an Automation Rule**"
   ]
  },
  {
   "cell_type": "code",
   "execution_count": 21,
   "metadata": {
    "colab": {
     "base_uri": "https://localhost:8080/"
    },
    "id": "NG_zs9H1K0_D",
    "outputId": "82f30a74-a7be-4ab1-c2e1-7f8fbc690641"
   },
   "outputs": [
    {
     "name": "stdout",
     "output_type": "stream",
     "text": [
      "Enter device name: Fan\n",
      "Enter time (e.g., 10:00 PM): 12 PM\n",
      "Enter action (ON/OFF): OFF\n",
      "Automation Rule: Fan will be turned OFF at 12 PM.\n"
     ]
    }
   ],
   "source": [
    "def set_automation_rule(device, time, action):\n",
    "    return f\"Automation Rule: {device} will be turned {action.upper()} at {time}.\"\n",
    "\n",
    "# User input\n",
    "device = input(\"Enter device name: \")\n",
    "time = input(\"Enter time (e.g., 10:00 PM): \")\n",
    "action = input(\"Enter action (ON/OFF): \")\n",
    "\n",
    "# Output\n",
    "print(set_automation_rule(device, time, action))"
   ]
  },
  {
   "cell_type": "markdown",
   "metadata": {
    "id": "eAxv4T33La9z"
   },
   "source": [
    "**Task 4.2: Optimize Power Consumption**"
   ]
  },
  {
   "cell_type": "code",
   "execution_count": 22,
   "metadata": {
    "colab": {
     "base_uri": "https://localhost:8080/"
    },
    "id": "ZMG5uQJsLdT4",
    "outputId": "d8c30ae1-6b04-41b7-9189-04da1f2676d8"
   },
   "outputs": [
    {
     "name": "stdout",
     "output_type": "stream",
     "text": [
      "How many devices do you want to enter? 3\n",
      "Enter device name: Dryer\n",
      "Enter power consumption of Dryer in Watts: 12\n",
      "Enter device name: Cooler\n",
      "Enter power consumption of Cooler in Watts: 220\n",
      "Enter device name: Iron\n",
      "Enter power consumption of Iron in Watts: 220\n",
      "Active Devices After Optimization: ['Dryer', 'Cooler', 'Iron']\n"
     ]
    }
   ],
   "source": [
    "def optimize_power(devices):\n",
    "    # Filter devices consuming <= 1000W\n",
    "    optimized = [name for name, power in devices if power <= 1000]\n",
    "    return optimized\n",
    "\n",
    "# User input\n",
    "num = int(input(\"How many devices do you want to enter? \"))\n",
    "devices = []\n",
    "\n",
    "for _ in range(num):\n",
    "    name = input(\"Enter device name: \")\n",
    "    power = int(input(f\"Enter power consumption of {name} in Watts: \"))\n",
    "    devices.append((name, power))\n",
    "\n",
    "# Output\n",
    "optimized_devices = optimize_power(devices)\n",
    "print(\"Active Devices After Optimization:\", optimized_devices)"
   ]
  },
  {
   "cell_type": "code",
   "execution_count": 26,
   "metadata": {
    "colab": {
     "base_uri": "https://localhost:8080/"
    },
    "id": "jqok60mpMBbx",
    "outputId": "2c4a900f-2c6a-4362-b421-426ed8bc6132"
   },
   "outputs": [
    {
     "name": "stdout",
     "output_type": "stream",
     "text": [
      "Enter homeowner's name: Hoorain\n",
      "Enter devices to check status for (comma-separated): AC, Fan, Lights\n",
      "How many automation commands do you want to enter? 3\n",
      "Enter device name: AC\n",
      "Enter status for ac (ON/OFF): ON\n",
      "Enter device name: Fan\n",
      "Enter status for fan (ON/OFF): OFF\n",
      "Enter device name: Lights\n",
      "Enter status for lights (ON/OFF): OFF\n",
      "\n",
      "Hello Hoorain, Smart Home Assistant at your service!\n",
      "Checking status for: AC, Fan, Lights\n",
      "Ac set to ON\n",
      "Fan set to OFF\n",
      "Lights set to OFF\n"
     ]
    }
   ],
   "source": [
    "def smart_home_assistant(name, *args, **kwargs):\n",
    "    print(f\"\\nHello {name}, Smart Home Assistant at your service!\")\n",
    "\n",
    "    # Show devices being checked\n",
    "    if args:\n",
    "        print(\"Checking status for:\", \", \".join(args))\n",
    "    else:\n",
    "        print(\"No devices specified for status check.\")\n",
    "\n",
    "    # Execute automation commands\n",
    "    for device, status in kwargs.items():\n",
    "        print(f\"{device.title()} set to {status.upper()}\")\n",
    "\n",
    "name = input(\"Enter homeowner's name: \")\n",
    "\n",
    "# Devices to check\n",
    "devices_input = input(\"Enter devices to check status for (comma-separated): \")\n",
    "devices = [d.strip() for d in devices_input.split(\",\") if d.strip()]\n",
    "\n",
    "# Automation commands\n",
    "commands = {}\n",
    "count = int(input(\"How many automation commands do you want to enter? \"))\n",
    "for _ in range(count):\n",
    "    dev = input(\"Enter device name: \").lower()\n",
    "    status = input(f\"Enter status for {dev} (ON/OFF): \").upper()\n",
    "    commands[dev] = status\n",
    "\n",
    "# Function call\n",
    "smart_home_assistant(name, *devices, **commands)"
   ]
  }
 ],
 "metadata": {
  "colab": {
   "provenance": []
  },
  "kernelspec": {
   "display_name": "Python 3 (ipykernel)",
   "language": "python",
   "name": "python3"
  },
  "language_info": {
   "codemirror_mode": {
    "name": "ipython",
    "version": 3
   },
   "file_extension": ".py",
   "mimetype": "text/x-python",
   "name": "python",
   "nbconvert_exporter": "python",
   "pygments_lexer": "ipython3",
   "version": "3.12.7"
  }
 },
 "nbformat": 4,
 "nbformat_minor": 4
}
