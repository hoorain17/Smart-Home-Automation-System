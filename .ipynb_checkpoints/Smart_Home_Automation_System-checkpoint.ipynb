{
  "cells": [
    {
      "cell_type": "markdown",
      "metadata": {
        "id": "DqzfZRkIGMqO"
      },
      "source": [
        "# **Python Assignment: Smart Home Automation System**"
      ]
    },
    {
      "cell_type": "markdown",
      "metadata": {
        "id": "BKNwm5deHGiS"
      },
      "source": [
        "# **1. Device Management**"
      ]
    },
    {
      "cell_type": "markdown",
      "metadata": {
        "id": "CEp-Wj-9HNpq"
      },
      "source": [
        "**Task 1.1: Create and Manage a List of Smart Devices**"
      ]
    },
    {
      "cell_type": "code",
      "execution_count": 9,
      "metadata": {
        "colab": {
          "base_uri": "https://localhost:8080/"
        },
        "id": "ukxWICYKFcKb",
        "outputId": "b834a551-180d-49e2-9a6b-fcf5b02d1ca6"
      },
      "outputs": [
        {
          "name": "stdout",
          "output_type": "stream",
          "text": [
            "\n",
            "Devices: ['Lights', 'Fan', 'AC', 'Door Lock', 'Thermostat']\n",
            "Options: 1) Add 2) Remove 3) Sort 4) Exit\n",
            "Choose an option (1-4): 1\n",
            "Enter device name to add: Cooler\n",
            "Cooler added.\n",
            "\n",
            "Devices: ['Lights', 'Fan', 'AC', 'Door Lock', 'Thermostat', 'Cooler']\n",
            "Options: 1) Add 2) Remove 3) Sort 4) Exit\n",
            "Choose an option (1-4): 3\n",
            "Devices sorted.\n",
            "\n",
            "Devices: ['AC', 'Cooler', 'Door Lock', 'Fan', 'Lights', 'Thermostat']\n",
            "Options: 1) Add 2) Remove 3) Sort 4) Exit\n",
            "Choose an option (1-4): 4\n"
          ]
        }
      ],
      "source": [
        "# Initial list of devices\n",
        "devices = ['Lights', 'Fan', 'AC', 'Door Lock', 'Thermostat']\n",
        "\n",
        "while True:\n",
        "    print(\"\\nDevices:\", devices)\n",
        "    print(\"Options: 1) Add 2) Remove 3) Sort 4) Exit\")\n",
        "    choice = input(\"Choose an option (1-4): \")\n",
        "\n",
        "    if choice == '1':\n",
        "        new_device = input(\"Enter device name to add: \")\n",
        "        devices.append(new_device)\n",
        "        print(f\"{new_device} added.\")\n",
        "\n",
        "    elif choice == '2':\n",
        "        remove_device = input(\"Enter device name to remove: \")\n",
        "        if remove_device in devices:\n",
        "            devices.remove(remove_device)\n",
        "            print(f\"{remove_device} removed.\")\n",
        "        else:\n",
        "            print(\"Device not found.\")\n",
        "\n",
        "    elif choice == '3':\n",
        "        devices.sort()\n",
        "        print(\"Devices sorted.\")\n",
        "\n",
        "    elif choice == '4':\n",
        "        break\n",
        "\n",
        "    else:\n",
        "        print(\"Invalid option. Try again.\")"
      ]
    },
    {
      "cell_type": "markdown",
      "metadata": {
        "id": "pXlKVvcMHSiT"
      },
      "source": [
        "**Task 1.2: Store Device Settings Using Tuples**"
      ]
    },
    {
      "cell_type": "code",
      "execution_count": 10,
      "metadata": {
        "colab": {
          "base_uri": "https://localhost:8080/"
        },
        "id": "Ml1cyaaXGjT6",
        "outputId": "6facc096-b2fa-4edd-f323-0f635d7d74ab"
      },
      "outputs": [
        {
          "name": "stdout",
          "output_type": "stream",
          "text": [
            "\n",
            "Enter settings for AC:\n",
            "Status (ON/OFF): ON\n",
            "Power Consumption (in Watts): 220\n",
            "\n",
            "Enter settings for Cooler:\n",
            "Status (ON/OFF): Off\n",
            "Power Consumption (in Watts): 12\n",
            "\n",
            "Enter settings for Door Lock:\n",
            "Status (ON/OFF): off\n",
            "Power Consumption (in Watts): 0\n",
            "\n",
            "Enter settings for Fan:\n",
            "Status (ON/OFF): ON\n",
            "Power Consumption (in Watts): 12\n",
            "\n",
            "Enter settings for Lights:\n",
            "Status (ON/OFF): Off\n",
            "Power Consumption (in Watts): 0\n",
            "\n",
            "Enter settings for Thermostat:\n",
            "Status (ON/OFF): Off\n",
            "Power Consumption (in Watts): 0\n",
            "\n",
            "Device Settings:\n",
            "AC: ('AC', 'ON', 220)\n",
            "Cooler: ('Cooler', 'OFF', 12)\n",
            "Door Lock: ('Door Lock', 'OFF', 0)\n",
            "Fan: ('Fan', 'ON', 12)\n",
            "Lights: ('Lights', 'OFF', 0)\n",
            "Thermostat: ('Thermostat', 'OFF', 0)\n"
          ]
        }
      ],
      "source": [
        "device_settings = []\n",
        "\n",
        "for device in devices:\n",
        "    print(f\"\\nEnter settings for {device}:\")\n",
        "    status = input(\"Status (ON/OFF): \").upper()\n",
        "    power = int(input(\"Power Consumption (in Watts): \"))\n",
        "    device_settings.append((device, status, power))\n",
        "\n",
        "# Display all device settings\n",
        "print(\"\\nDevice Settings:\")\n",
        "for setting in device_settings:\n",
        "    print(f\"{setting[0]}: {setting}\")"
      ]
    },
    {
      "cell_type": "markdown",
      "metadata": {
        "id": "01N-CuT1HXqa"
      },
      "source": [
        "# **2. Energy Consumption Tracker**"
      ]
    },
    {
      "cell_type": "markdown",
      "metadata": {
        "id": "ql4GpeicHwhc"
      },
      "source": [
        "**Task 2.1: Energy Consumption Tracker using Dictionary**"
      ]
    },
    {
      "cell_type": "code",
      "execution_count": 11,
      "metadata": {
        "colab": {
          "base_uri": "https://localhost:8080/"
        },
        "id": "vCbf1e7hH02O",
        "outputId": "fe858bd4-f0b4-45a0-a0de-3fd6081777c4"
      },
      "outputs": [
        {
          "name": "stdout",
          "output_type": "stream",
          "text": [
            "\n",
            "Current Energy Usage: {'Lights': 5, 'AC': 120, 'Fan': 30}\n",
            "Options: 1) Add 2) Update 3) Remove 4) Total 5) Exit\n",
            "Choose an option (1-5): 1\n",
            "Enter device name to add: Dryer\n",
            "Enter energy usage (kWh): 20\n",
            "Dryer added.\n",
            "\n",
            "Current Energy Usage: {'Lights': 5, 'AC': 120, 'Fan': 30, 'Dryer': 20}\n",
            "Options: 1) Add 2) Update 3) Remove 4) Total 5) Exit\n",
            "Choose an option (1-5): 5\n"
          ]
        }
      ],
      "source": [
        "# Initial energy usage dictionary\n",
        "energy_usage = {'Lights': 5, 'AC': 120, 'Fan': 30}\n",
        "\n",
        "while True:\n",
        "    print(\"\\nCurrent Energy Usage:\", energy_usage)\n",
        "    print(\"Options: 1) Add 2) Update 3) Remove 4) Total 5) Exit\")\n",
        "    choice = input(\"Choose an option (1-5): \")\n",
        "\n",
        "    if choice == '1':\n",
        "        device = input(\"Enter device name to add: \")\n",
        "        if device in energy_usage:\n",
        "            print(\"Device already exists. Use Update option.\")\n",
        "        else:\n",
        "            usage = int(input(\"Enter energy usage (kWh): \"))\n",
        "            energy_usage[device] = usage\n",
        "            print(f\"{device} added.\")\n",
        "\n",
        "    elif choice == '2':\n",
        "        device = input(\"Enter device name to update: \")\n",
        "        if device in energy_usage:\n",
        "            usage = int(input(\"Enter new energy usage (kWh): \"))\n",
        "            energy_usage[device] = usage\n",
        "            print(f\"{device} updated.\")\n",
        "        else:\n",
        "            print(\"Device not found.\")\n",
        "\n",
        "    elif choice == '3':\n",
        "        device = input(\"Enter device name to remove: \")\n",
        "        if device in energy_usage:\n",
        "            del energy_usage[device]\n",
        "            print(f\"{device} removed.\")\n",
        "        else:\n",
        "            print(\"Device not found.\")\n",
        "\n",
        "    elif choice == '4':\n",
        "        total = sum(energy_usage.values())\n",
        "        print(f\"Total Energy Consumption: {total} kWh\")\n",
        "\n",
        "    elif choice == '5':\n",
        "        break\n",
        "\n",
        "    else:\n",
        "        print(\"Invalid option. Try again.\")"
      ]
    },
    {
      "cell_type": "markdown",
      "metadata": {
        "id": "cRAtoKvVH-mW"
      },
      "source": [
        "**Task 2.2: Unique Power-Saving Modes using Set**"
      ]
    },
    {
      "cell_type": "code",
      "execution_count": 12,
      "metadata": {
        "colab": {
          "base_uri": "https://localhost:8080/"
        },
        "id": "DvU0I8a6IBeG",
        "outputId": "d9596bd8-4b7d-4a54-fde2-2e3453872a78"
      },
      "outputs": [
        {
          "name": "stdout",
          "output_type": "stream",
          "text": [
            "\n",
            "Power-Saving Modes: {'Eco Mode', 'Night Mode'}\n",
            "Options: 1) Add 2) Check 3) View All 4) Exit\n",
            "Choose an option (1-4): 2\n",
            "Enter mode to check: Night mode\n",
            "'Night mode' not found.\n",
            "\n",
            "Power-Saving Modes: {'Eco Mode', 'Night Mode'}\n",
            "Options: 1) Add 2) Check 3) View All 4) Exit\n",
            "Choose an option (1-4): 1\n",
            "Enter new power-saving mode: Sleep Mode\n",
            "New Mode Added: 'Sleep Mode'\n",
            "\n",
            "Power-Saving Modes: {'Eco Mode', 'Night Mode', 'Sleep Mode'}\n",
            "Options: 1) Add 2) Check 3) View All 4) Exit\n",
            "Choose an option (1-4): 2\n",
            "Enter mode to check: Night\n",
            "'Night' not found.\n",
            "\n",
            "Power-Saving Modes: {'Eco Mode', 'Night Mode', 'Sleep Mode'}\n",
            "Options: 1) Add 2) Check 3) View All 4) Exit\n",
            "Choose an option (1-4): 3\n",
            "All Power-Saving Modes: {'Eco Mode', 'Night Mode', 'Sleep Mode'}\n",
            "\n",
            "Power-Saving Modes: {'Eco Mode', 'Night Mode', 'Sleep Mode'}\n",
            "Options: 1) Add 2) Check 3) View All 4) Exit\n",
            "Choose an option (1-4): 4\n"
          ]
        }
      ],
      "source": [
        "# Initial power-saving modes\n",
        "power_modes = {'Eco Mode', 'Night Mode'}\n",
        "\n",
        "while True:\n",
        "    print(\"\\nPower-Saving Modes:\", power_modes)\n",
        "    print(\"Options: 1) Add 2) Check 3) View All 4) Exit\")\n",
        "    choice = input(\"Choose an option (1-4): \")\n",
        "\n",
        "    if choice == '1':\n",
        "        mode = input(\"Enter new power-saving mode: \")\n",
        "        power_modes.add(mode)\n",
        "        print(f\"New Mode Added: '{mode}'\")\n",
        "\n",
        "    elif choice == '2':\n",
        "        mode = input(\"Enter mode to check: \")\n",
        "        if mode in power_modes:\n",
        "            print(f\"'{mode}' is available.\")\n",
        "        else:\n",
        "            print(f\"'{mode}' not found.\")\n",
        "\n",
        "    elif choice == '3':\n",
        "        print(\"All Power-Saving Modes:\", power_modes)\n",
        "\n",
        "    elif choice == '4':\n",
        "        break\n",
        "\n",
        "    else:\n",
        "        print(\"Invalid option. Try again.\")"
      ]
    },
    {
      "cell_type": "markdown",
      "metadata": {
        "id": "ef7UYxmiI3aM"
      },
      "source": [
        "# **3. Smart Home Automation Task**"
      ]
    },
    {
      "cell_type": "markdown",
      "metadata": {
        "id": "5EDb1XPZJAb9"
      },
      "source": [
        "**Task 3.1: Function to Calculate Monthly Energy Cost**"
      ]
    },
    {
      "cell_type": "code",
      "execution_count": 14,
      "metadata": {
        "colab": {
          "base_uri": "https://localhost:8080/"
        },
        "id": "Jz9-rLGvI_3f",
        "outputId": "3546ac9c-7299-4df5-d4f5-f3294b1a06d9"
      },
      "outputs": [
        {
          "name": "stdout",
          "output_type": "stream",
          "text": [
            "Enter total energy usage in kWh: 220\n",
            "Enter electricity rate per kWh (in $): 12\n",
            "Total Monthly Energy Cost: $2640.00\n"
          ]
        }
      ],
      "source": [
        "def calculate_energy_cost(energy_usage, rate_per_kwh):\n",
        "    cost = energy_usage * rate_per_kwh\n",
        "    return f\"Total Monthly Energy Cost: ${cost:.2f}\"\n",
        "\n",
        "# Get input from user\n",
        "try:\n",
        "    usage = float(input(\"Enter total energy usage in kWh: \"))\n",
        "    rate = float(input(\"Enter electricity rate per kWh (in $): \"))\n",
        "    print(calculate_energy_cost(usage, rate))\n",
        "except ValueError:\n",
        "    print(\"Please enter valid numbers.\")"
      ]
    },
    {
      "cell_type": "markdown",
      "metadata": {
        "id": "ZmNUGx5yJW_j"
      },
      "source": [
        "** Task 3.2: Find Common Devices in Two Homes (with input)**"
      ]
    },
    {
      "cell_type": "code",
      "execution_count": 20,
      "metadata": {
        "colab": {
          "base_uri": "https://localhost:8080/"
        },
        "id": "-hk9NfJsJaEL",
        "outputId": "cad5ae00-e78e-415f-c9e4-663b537e24e2"
      },
      "outputs": [
        {
          "name": "stdout",
          "output_type": "stream",
          "text": [
            "Enter devices for Home 1 (comma-separated): light\n",
            "Enter devices for Home 2 (comma-separated): light\n",
            "Common Devices: {'Light'}\n"
          ]
        }
      ],
      "source": [
        "def find_common_devices(home1_devices, home2_devices):\n",
        "    # Normalize case and strip whitespace\n",
        "    set1 = set(device.strip().lower() for device in home1_devices)\n",
        "    set2 = set(device.strip().lower() for device in home2_devices)\n",
        "    return set1 & set2\n",
        "\n",
        "# User input\n",
        "home1_input = input(\"Enter devices for Home 1 (comma-separated): \")\n",
        "home2_input = input(\"Enter devices for Home 2 (comma-separated): \")\n",
        "\n",
        "# Split into lists\n",
        "home1_list = home1_input.split(',')\n",
        "home2_list = home2_input.split(',')\n",
        "\n",
        "# Get common devices\n",
        "common_devices = find_common_devices(home1_list, home2_list)\n",
        "\n",
        "# Show result\n",
        "if common_devices:\n",
        "    print(\"Common Devices:\", {device.title() for device in common_devices})\n",
        "else:\n",
        "    print(\"No common devices found.\")\n"
      ]
    },
    {
      "cell_type": "markdown",
      "metadata": {
        "id": "CYAxL6CKKgHX"
      },
      "source": [
        "# **4. Automation Features**"
      ]
    },
    {
      "cell_type": "markdown",
      "metadata": {
        "id": "zVeiGHTeKnMp"
      },
      "source": [
        "**Task 4.1: Create an Automation Rule**"
      ]
    },
    {
      "cell_type": "code",
      "execution_count": 21,
      "metadata": {
        "colab": {
          "base_uri": "https://localhost:8080/"
        },
        "id": "NG_zs9H1K0_D",
        "outputId": "82f30a74-a7be-4ab1-c2e1-7f8fbc690641"
      },
      "outputs": [
        {
          "name": "stdout",
          "output_type": "stream",
          "text": [
            "Enter device name: Fan\n",
            "Enter time (e.g., 10:00 PM): 12 PM\n",
            "Enter action (ON/OFF): OFF\n",
            "Automation Rule: Fan will be turned OFF at 12 PM.\n"
          ]
        }
      ],
      "source": [
        "def set_automation_rule(device, time, action):\n",
        "    return f\"Automation Rule: {device} will be turned {action.upper()} at {time}.\"\n",
        "\n",
        "# User input\n",
        "device = input(\"Enter device name: \")\n",
        "time = input(\"Enter time (e.g., 10:00 PM): \")\n",
        "action = input(\"Enter action (ON/OFF): \")\n",
        "\n",
        "# Output\n",
        "print(set_automation_rule(device, time, action))"
      ]
    },
    {
      "cell_type": "markdown",
      "metadata": {
        "id": "eAxv4T33La9z"
      },
      "source": [
        "**Task 4.2: Optimize Power Consumption**"
      ]
    },
    {
      "cell_type": "code",
      "execution_count": 22,
      "metadata": {
        "colab": {
          "base_uri": "https://localhost:8080/"
        },
        "id": "ZMG5uQJsLdT4",
        "outputId": "d8c30ae1-6b04-41b7-9189-04da1f2676d8"
      },
      "outputs": [
        {
          "name": "stdout",
          "output_type": "stream",
          "text": [
            "How many devices do you want to enter? 3\n",
            "Enter device name: Dryer\n",
            "Enter power consumption of Dryer in Watts: 12\n",
            "Enter device name: Cooler\n",
            "Enter power consumption of Cooler in Watts: 220\n",
            "Enter device name: Iron\n",
            "Enter power consumption of Iron in Watts: 220\n",
            "Active Devices After Optimization: ['Dryer', 'Cooler', 'Iron']\n"
          ]
        }
      ],
      "source": [
        "def optimize_power(devices):\n",
        "    # Filter devices consuming <= 1000W\n",
        "    optimized = [name for name, power in devices if power <= 1000]\n",
        "    return optimized\n",
        "\n",
        "# User input\n",
        "num = int(input(\"How many devices do you want to enter? \"))\n",
        "devices = []\n",
        "\n",
        "for _ in range(num):\n",
        "    name = input(\"Enter device name: \")\n",
        "    power = int(input(f\"Enter power consumption of {name} in Watts: \"))\n",
        "    devices.append((name, power))\n",
        "\n",
        "# Output\n",
        "optimized_devices = optimize_power(devices)\n",
        "print(\"Active Devices After Optimization:\", optimized_devices)"
      ]
    },
    {
      "cell_type": "code",
      "execution_count": 26,
      "metadata": {
        "colab": {
          "base_uri": "https://localhost:8080/"
        },
        "id": "jqok60mpMBbx",
        "outputId": "2c4a900f-2c6a-4362-b421-426ed8bc6132"
      },
      "outputs": [
        {
          "name": "stdout",
          "output_type": "stream",
          "text": [
            "Enter homeowner's name: Hoorain\n",
            "Enter devices to check status for (comma-separated): AC, Fan, Lights\n",
            "How many automation commands do you want to enter? 3\n",
            "Enter device name: AC\n",
            "Enter status for ac (ON/OFF): ON\n",
            "Enter device name: Fan\n",
            "Enter status for fan (ON/OFF): OFF\n",
            "Enter device name: Lights\n",
            "Enter status for lights (ON/OFF): OFF\n",
            "\n",
            "Hello Hoorain, Smart Home Assistant at your service!\n",
            "Checking status for: AC, Fan, Lights\n",
            "Ac set to ON\n",
            "Fan set to OFF\n",
            "Lights set to OFF\n"
          ]
        }
      ],
      "source": [
        "def smart_home_assistant(name, *args, **kwargs):\n",
        "    print(f\"\\nHello {name}, Smart Home Assistant at your service!\")\n",
        "\n",
        "    # Show devices being checked\n",
        "    if args:\n",
        "        print(\"Checking status for:\", \", \".join(args))\n",
        "    else:\n",
        "        print(\"No devices specified for status check.\")\n",
        "\n",
        "    # Execute automation commands\n",
        "    for device, status in kwargs.items():\n",
        "        print(f\"{device.title()} set to {status.upper()}\")\n",
        "\n",
        "name = input(\"Enter homeowner's name: \")\n",
        "\n",
        "# Devices to check\n",
        "devices_input = input(\"Enter devices to check status for (comma-separated): \")\n",
        "devices = [d.strip() for d in devices_input.split(\",\") if d.strip()]\n",
        "\n",
        "# Automation commands\n",
        "commands = {}\n",
        "count = int(input(\"How many automation commands do you want to enter? \"))\n",
        "for _ in range(count):\n",
        "    dev = input(\"Enter device name: \").lower()\n",
        "    status = input(f\"Enter status for {dev} (ON/OFF): \").upper()\n",
        "    commands[dev] = status\n",
        "\n",
        "# Function call\n",
        "smart_home_assistant(name, *devices, **commands)"
      ]
    },
    {
      "cell_type": "code",
      "execution_count": null,
      "metadata": {},
      "outputs": [
        {
          "ename": "FileNotFoundError",
          "evalue": "[Errno 2] No such file or directory: 'C:\\\\Users\\\\abc\\\\device_management.jpg'",
          "output_type": "error",
          "traceback": [
            "\u001b[1;31m---------------------------------------------------------------------------\u001b[0m",
            "\u001b[1;31mFileNotFoundError\u001b[0m                         Traceback (most recent call last)",
            "Cell \u001b[1;32mIn[1], line 5\u001b[0m\n\u001b[0;32m      2\u001b[0m \u001b[38;5;28;01mfrom\u001b[39;00m \u001b[38;5;21;01mPIL\u001b[39;00m \u001b[38;5;28;01mimport\u001b[39;00m Image\n\u001b[0;32m      4\u001b[0m \u001b[38;5;66;03m# Load images\u001b[39;00m\n\u001b[1;32m----> 5\u001b[0m device_management_img \u001b[38;5;241m=\u001b[39m Image\u001b[38;5;241m.\u001b[39mopen(\u001b[38;5;124m\"\u001b[39m\u001b[38;5;124mdevice_management.jpg\u001b[39m\u001b[38;5;124m\"\u001b[39m)  \u001b[38;5;66;03m# Replace with actual image paths\u001b[39;00m\n\u001b[0;32m      6\u001b[0m energy_tracker_img \u001b[38;5;241m=\u001b[39m Image\u001b[38;5;241m.\u001b[39mopen(\u001b[38;5;124m\"\u001b[39m\u001b[38;5;124menergy_tracker.jpg\u001b[39m\u001b[38;5;124m\"\u001b[39m)  \u001b[38;5;66;03m# Replace with actual image paths\u001b[39;00m\n\u001b[0;32m      7\u001b[0m automation_img \u001b[38;5;241m=\u001b[39m Image\u001b[38;5;241m.\u001b[39mopen(\u001b[38;5;124m\"\u001b[39m\u001b[38;5;124mautomation.jpg\u001b[39m\u001b[38;5;124m\"\u001b[39m)  \u001b[38;5;66;03m# Replace with actual image paths\u001b[39;00m\n",
            "File \u001b[1;32m~\\anaconda3\\Lib\\site-packages\\PIL\\Image.py:3431\u001b[0m, in \u001b[0;36mopen\u001b[1;34m(fp, mode, formats)\u001b[0m\n\u001b[0;32m   3428\u001b[0m     filename \u001b[38;5;241m=\u001b[39m os\u001b[38;5;241m.\u001b[39mpath\u001b[38;5;241m.\u001b[39mrealpath(os\u001b[38;5;241m.\u001b[39mfspath(fp))\n\u001b[0;32m   3430\u001b[0m \u001b[38;5;28;01mif\u001b[39;00m filename:\n\u001b[1;32m-> 3431\u001b[0m     fp \u001b[38;5;241m=\u001b[39m builtins\u001b[38;5;241m.\u001b[39mopen(filename, \u001b[38;5;124m\"\u001b[39m\u001b[38;5;124mrb\u001b[39m\u001b[38;5;124m\"\u001b[39m)\n\u001b[0;32m   3432\u001b[0m     exclusive_fp \u001b[38;5;241m=\u001b[39m \u001b[38;5;28;01mTrue\u001b[39;00m\n\u001b[0;32m   3433\u001b[0m \u001b[38;5;28;01melse\u001b[39;00m:\n",
            "\u001b[1;31mFileNotFoundError\u001b[0m: [Errno 2] No such file or directory: 'C:\\\\Users\\\\abc\\\\device_management.jpg'"
          ]
        }
      ],
      "source": [
        "import streamlit as st\n",
        "from PIL import Image\n",
        "\n",
        "# Load images\n",
        "device_management_img = Image.open(\"C:\\Users\\abc\\Desktop\\smart-home-automation-system\\device_managment.jpg\")  # Replace with actual image paths\n",
        "energy_tracker_img = Image.open(\"C:\\Users\\abc\\Desktop\\smart-home-automation-system\\energy_tracker.jpg\")  # Replace with actual image paths\n",
        "automation_img = Image.open(\"C:\\Users\\abc\\Desktop\\smart-home-automation-system\\automation.jpg\")  # Replace with actual image paths\n",
        "\n",
        "# 1. Device Management\n",
        "def device_management():\n",
        "    st.header(\"Device Management\")\n",
        "    st.image(device_management_img, width=400)  # Display image\n",
        "\n",
        "    if 'devices' not in st.session_state:\n",
        "        st.session_state.devices = ['Lights', 'Fan', 'AC', 'Door Lock', 'Thermostat']\n",
        "    if 'device_settings' not in st.session_state:\n",
        "        st.session_state.device_settings = []\n",
        "\n",
        "    def add_device():\n",
        "        new_device = st.session_state.new_device_name.strip()\n",
        "        if new_device and new_device not in st.session_state.devices:\n",
        "            st.session_state.devices.append(new_device)\n",
        "            st.success(f\"Device '{new_device}' added successfully!\")\n",
        "            st.session_state.new_device_name = \"\"\n",
        "        elif not new_device:\n",
        "            st.error(\"Please enter a device name.\")\n",
        "        else:\n",
        "            st.error(f\"Device '{new_device}' already exists.\")\n",
        "\n",
        "    def remove_device():\n",
        "        remove_device = st.session_state.remove_device_name.strip()\n",
        "        if remove_device in st.session_state.devices:\n",
        "            st.session_state.devices.remove(remove_device)\n",
        "            st.success(f\"Device '{remove_device}' removed successfully!\")\n",
        "            st.session_state.remove_device_name = \"\"\n",
        "        else:\n",
        "            st.error(\"Device not found.\")\n",
        "\n",
        "    def sort_devices():\n",
        "        st.session_state.devices.sort()\n",
        "        st.success(\"Devices sorted successfully!\")\n",
        "\n",
        "    st.subheader(\"Manage Devices\")\n",
        "    st.write(\"Current Devices:\", st.session_state.devices)\n",
        "\n",
        "    col1, col2, col3 = st.columns(3)\n",
        "    with col1:\n",
        "        st.text_input(\"Device Name\", key=\"new_device_name\")\n",
        "        st.button(\"Add Device\", on_click=add_device)\n",
        "    with col2:\n",
        "        st.text_input(\"Device Name\", key=\"remove_device_name\")\n",
        "        st.button(\"Remove Device\", on_click=remove_device)\n",
        "    with col3:\n",
        "        st.button(\"Sort Devices\", on_click=sort_devices)\n",
        "\n",
        "    st.subheader(\"Device Settings\")\n",
        "    if not st.session_state.device_settings:\n",
        "        for device in st.session_state.devices:\n",
        "            status = st.selectbox(f\"Status for {device}\", [\"ON\", \"OFF\"], key=f\"status_{device}\")\n",
        "            power = st.number_input(f\"Power Consumption for {device} (Watts)\", value=0, key=f\"power_{device}\")\n",
        "            st.session_state.device_settings.append({\"device\": device, \"status\": status, \"power\": power})\n",
        "\n",
        "    for i, setting in enumerate(st.session_state.device_settings):\n",
        "        st.write(f\"{setting['device']}: Status - {setting['status']}, Power - {setting['power']} Watts\")\n",
        "\n",
        "# 2. Energy Consumption Tracker\n",
        "def energy_tracker():\n",
        "    st.header(\"Energy Consumption Tracker\")\n",
        "    st.image(energy_tracker_img, width=400)  # Display image\n",
        "\n",
        "    if 'energy_usage' not in st.session_state:\n",
        "        st.session_state.energy_usage = {'Lights': 5, 'AC': 120, 'Fan': 30}\n",
        "\n",
        "    def add_energy_usage():\n",
        "        device = st.session_state.add_device_name.strip()\n",
        "        usage = st.session_state.add_usage\n",
        "        if device and device not in st.session_state.energy_usage:\n",
        "            st.session_state.energy_usage[device] = usage\n",
        "            st.success(f\"Energy usage for '{device}' added.\")\n",
        "            st.session_state.add_device_name = \"\"\n",
        "            st.session_state.add_usage = 0\n",
        "        elif device in st.session_state.energy_usage:\n",
        "            st.error(\"Device already exists. Use 'Update' option.\")\n",
        "        else:\n",
        "            st.error(\"Please enter a device name.\")\n",
        "\n",
        "    def update_energy_usage():\n",
        "        device = st.session_state.update_device_name.strip()\n",
        "        usage = st.session_state.update_usage\n",
        "        if device in st.session_state.energy_usage:\n",
        "            st.session_state.energy_usage[device] = usage\n",
        "            st.success(f\"Energy usage for '{device}' updated.\")\n",
        "            st.session_state.update_device_name = \"\"\n",
        "            st.session_state.update_usage = 0\n",
        "        else:\n",
        "            st.error(\"Device not found.\")\n",
        "\n",
        "    def remove_energy_usage():\n",
        "        device = st.session_state.remove_device_name.strip()\n",
        "        if device in st.session_state.energy_usage:\n",
        "            del st.session_state.energy_usage[device]\n",
        "            st.success(f\"Device '{device}' removed.\")\n",
        "            st.session_state.remove_device_name = \"\"\n",
        "        else:\n",
        "            st.error(\"Device not found.\")\n",
        "\n",
        "    st.subheader(\"Current Energy Usage\")\n",
        "    st.write(st.session_state.energy_usage)\n",
        "\n",
        "    col1, col2, col3 = st.columns(3)\n",
        "    with col1:\n",
        "        st.text_input(\"Device Name\", key=\"add_device_name\")\n",
        "        st.number_input(\"Usage (kWh)\", value=0, key=\"add_usage\")\n",
        "        st.button(\"Add Usage\", on_click=add_energy_usage)\n",
        "    with col2:\n",
        "        st.text_input(\"Device Name\", key=\"update_device_name\")\n",
        "        st.number_input(\"Usage (kWh)\", value=0, key=\"update_usage\")\n",
        "        st.button(\"Update Usage\", on_click=update_energy_usage)\n",
        "    with col3:\n",
        "        st.text_input(\"Device Name\", key=\"remove_device_name\")\n",
        "        st.button(\"Remove Device\", on_click=remove_energy_usage)\n",
        "\n",
        "    if st.button(\"Show Total Energy Consumption\"):\n",
        "        total = sum(st.session_state.energy_usage.values())\n",
        "        st.success(f\"Total Energy Consumption: {total} kWh\")\n",
        "\n",
        "    st.subheader(\"Power-Saving Modes\")\n",
        "    if 'power_modes' not in st.session_state:\n",
        "        st.session_state.power_modes = {'Eco Mode', 'Night Mode'}\n",
        "\n",
        "    def add_power_mode():\n",
        "        new_mode = st.session_state.new_mode_name.strip()\n",
        "        if new_mode and new_mode not in st.session_state.power_modes:\n",
        "            st.session_state.power_modes.add(new_mode)\n",
        "            st.success(f\"New Mode Added: '{new_mode}'\")\n",
        "            st.session_state.new_mode_name = \"\"\n",
        "        elif not new_mode:\n",
        "            st.error(\"Please enter a power-saving mode name.\")\n",
        "        else:\n",
        "             st.error(f\"Power mode '{new_mode}' already exists.\")\n",
        "\n",
        "    def check_power_mode():\n",
        "        mode_to_check = st.session_state.check_mode_name.strip()\n",
        "        if mode_to_check in st.session_state.power_modes:\n",
        "            st.success(f\"'{mode_to_check}' is available.\")\n",
        "        else:\n",
        "            st.error(f\"'{mode_to_check}' not found.\")\n",
        "        st.session_state.check_mode_name = \"\"\n",
        "\n",
        "    st.write(\"Available Power-Saving Modes:\", st.session_state.power_modes)\n",
        "\n",
        "    col1, col2 = st.columns(2)\n",
        "    with col1:\n",
        "        st.text_input(\"New Mode\", key=\"new_mode_name\")\n",
        "        st.button(\"Add Mode\", on_click=add_power_mode)\n",
        "    with col2:\n",
        "        st.text_input(\"Mode to Check\", key=\"check_mode_name\")\n",
        "        st.button(\"Check Mode\", on_click=check_power_mode)\n",
        "\n",
        "    if st.button(\"View All Power-Saving Modes\"):\n",
        "        st.write(\"All Power-Saving Modes:\", st.session_state.power_modes)\n",
        "\n",
        "# 3. Smart Home Automation\n",
        "def automation():\n",
        "    st.header(\"Smart Home Automation\")\n",
        "    st.image(automation_img, width=400)  # Display image\n",
        "\n",
        "    st.subheader(\"Set Automation Rule\")\n",
        "    device = st.text_input(\"Device Name\")\n",
        "    time = st.text_input(\"Time (e.g., 10:00 PM)\")\n",
        "    action = st.selectbox(\"Action (ON/OFF)\", [\"ON\", \"OFF\"])\n",
        "\n",
        "    if st.button(\"Set Rule\"):\n",
        "        rule = f\"Automation Rule: {device} will be turned {action.upper()} at {time}.\"\n",
        "        st.success(rule)\n",
        "\n",
        "    st.subheader(\"Optimize Power Consumption\")\n",
        "    num_devices = st.number_input(\"Number of Devices\", min_value=1, value=1)\n",
        "    devices = []\n",
        "    for i in range(num_devices):\n",
        "        name = st.text_input(f\"Device Name {i+1}\")\n",
        "        power = st.number_input(f\"Power Consumption of {name} (Watts)\", value=0)\n",
        "        devices.append((name, power))\n",
        "\n",
        "    if st.button(\"Optimize\"):\n",
        "        optimized_devices = [name for name, power in devices if power <= 1000]\n",
        "        st.success(f\"Active Devices After Optimization: {optimized_devices}\")\n",
        "\n",
        "    st.subheader(\"Smart Home Assistant\")\n",
        "    name = st.text_input(\"Enter Homeowner's Name\")\n",
        "    devices_input = st.text_input(\"Enter devices to check status for (comma-separated)\")\n",
        "    devices_to_check = [d.strip() for d in devices_input.split(\",\") if d.strip()]\n",
        "\n",
        "    num_commands = st.number_input(\"How many automation commands do you want to enter?\", min_value=0, value=0)\n",
        "    commands = {}\n",
        "    for i in range(num_commands):\n",
        "        dev = st.text_input(f\"Device Name {i+1}\").lower()\n",
        "        status = st.selectbox(f\"Enter status for {dev} (ON/OFF)\", [\"ON\", \"OFF\"], key=f\"status_{i}\")\n",
        "        commands[dev] = status\n",
        "\n",
        "    if st.button(\"Run Assistant\"):\n",
        "        st.write(f\"\\nHello {name}, Smart Home Assistant at your service!\")\n",
        "        if devices_to_check:\n",
        "            st.write(\"Checking status for:\", \", \".join(devices_to_check))\n",
        "        else:\n",
        "            st.write(\"No devices specified for status check.\")\n",
        "        for device, status in commands.items():\n",
        "            st.write(f\"{device.title()} set to {status.upper()}\")\n",
        "\n",
        "def main():\n",
        "    st.title(\"Smart Home Automation System\")\n",
        "    menu = [\"Device Management\", \"Energy Tracker\", \"Automation\"]\n",
        "    choice = st.sidebar.selectbox(\"Menu\", menu)\n",
        "\n",
        "    if choice == \"Device Management\":\n",
        "        device_management()\n",
        "    elif choice == \"Energy Tracker\":\n",
        "        energy_tracker()\n",
        "    elif choice == \"Automation\":\n",
        "        automation()\n",
        "\n",
        "if __name__ == \"__main__\":\n",
        "    main()\n"
      ]
    }
  ],
  "metadata": {
    "colab": {
      "provenance": []
    },
    "kernelspec": {
      "display_name": "Python 3 (ipykernel)",
      "language": "python",
      "name": "python3"
    },
    "language_info": {
      "codemirror_mode": {
        "name": "ipython",
        "version": 3
      },
      "file_extension": ".py",
      "mimetype": "text/x-python",
      "name": "python",
      "nbconvert_exporter": "python",
      "pygments_lexer": "ipython3",
      "version": "3.12.7"
    }
  },
  "nbformat": 4,
  "nbformat_minor": 0
}
